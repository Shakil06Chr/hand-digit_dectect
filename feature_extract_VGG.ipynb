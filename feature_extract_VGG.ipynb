{
 "cells": [
  {
   "cell_type": "code",
   "execution_count": 1,
   "metadata": {},
   "outputs": [
    {
     "name": "stderr",
     "output_type": "stream",
     "text": [
      "c:\\Users\\USER\\AppData\\Local\\Programs\\Python\\Python310\\lib\\site-packages\\keras\\src\\layers\\convolutional\\base_conv.py:107: UserWarning: Do not pass an `input_shape`/`input_dim` argument to a layer. When using Sequential models, prefer using an `Input(shape)` object as the first layer in the model instead.\n",
      "  super().__init__(activity_regularizer=activity_regularizer, **kwargs)\n"
     ]
    },
    {
     "name": "stdout",
     "output_type": "stream",
     "text": [
      "\u001b[1m1875/1875\u001b[0m \u001b[32m━━━━━━━━━━━━━━━━━━━━\u001b[0m\u001b[37m\u001b[0m \u001b[1m113s\u001b[0m 60ms/step\n",
      "\u001b[1m313/313\u001b[0m \u001b[32m━━━━━━━━━━━━━━━━━━━━\u001b[0m\u001b[37m\u001b[0m \u001b[1m19s\u001b[0m 62ms/step\n",
      "Random Forest Accuracy: 81.64%\n",
      "\n",
      "Classification Report:\n",
      "              precision    recall  f1-score   support\n",
      "\n",
      "           0       0.82      0.93      0.87       980\n",
      "           1       0.92      0.97      0.95      1135\n",
      "           2       0.81      0.86      0.83      1032\n",
      "           3       0.69      0.75      0.72      1010\n",
      "           4       0.77      0.81      0.79       982\n",
      "           5       0.77      0.68      0.72       892\n",
      "           6       0.88      0.84      0.86       958\n",
      "           7       0.88      0.83      0.85      1028\n",
      "           8       0.78      0.71      0.75       974\n",
      "           9       0.82      0.74      0.78      1009\n",
      "\n",
      "    accuracy                           0.82     10000\n",
      "   macro avg       0.81      0.81      0.81     10000\n",
      "weighted avg       0.82      0.82      0.82     10000\n",
      "\n"
     ]
    }
   ],
   "source": [
    "import tensorflow as tf\n",
    "import numpy as np\n",
    "from tensorflow.keras import models, layers\n",
    "from tensorflow.keras.datasets import mnist\n",
    "from sklearn.ensemble import RandomForestClassifier\n",
    "from sklearn.metrics import accuracy_score, classification_report\n",
    "from tensorflow.keras.preprocessing import image\n",
    "import matplotlib.pyplot as plt\n",
    "\n",
    "# Load and preprocess MNIST dataset\n",
    "(train_images, train_labels), (test_images, test_labels) = mnist.load_data()\n",
    "\n",
    "# Reshape images\n",
    "train_images = train_images.reshape((60000, 28, 28, 1)) / 255.0\n",
    "test_images = test_images.reshape((10000, 28, 28, 1)) / 255.0\n",
    "\n",
    "# Build feature extraction CNN\n",
    "feature_extractor = models.Sequential([\n",
    "    # Block 1\n",
    "    layers.Conv2D(32, (3, 3), activation='relu', padding='same', input_shape=(28, 28, 1)),  # Reduced filters to 32\n",
    "    layers.Conv2D(32, (3, 3), activation='relu', padding='same'),  # Reduced filters to 32\n",
    "    layers.MaxPooling2D((2, 2)),  # Output: 14x14\n",
    "    \n",
    "    # Block 2\n",
    "    layers.Conv2D(64, (3, 3), activation='relu', padding='same'),  # Reduced filters to 64\n",
    "    layers.Conv2D(64, (3, 3), activation='relu', padding='same'),  # Reduced filters to 64\n",
    "    layers.MaxPooling2D((2, 2)),  # Output: 7x7\n",
    "    \n",
    "    # Block 3\n",
    "    layers.Conv2D(128, (3, 3), activation='relu', padding='same'),  # Reduced filters to 128\n",
    "    layers.Conv2D(128, (3, 3), activation='relu', padding='same'),  # Reduced filters to 128\n",
    "    layers.Conv2D(128, (3, 3), activation='relu', padding='same'),  # Reduced filters to 128\n",
    "    layers.MaxPooling2D((2, 2), padding='same'),  # Output: 4x4\n",
    "    \n",
    "    # Block 4\n",
    "    layers.Conv2D(256, (3, 3), activation='relu', padding='same'),  # Reduced filters to 256\n",
    "    layers.Conv2D(256, (3, 3), activation='relu', padding='same'),  # Reduced filters to 256\n",
    "    layers.Conv2D(256, (3, 3), activation='relu', padding='same'),  # Reduced filters to 256\n",
    "    layers.MaxPooling2D((2, 2), padding='same'),  # Output: 2x2\n",
    "    \n",
    "    # Block 5 (adjusted)\n",
    "    layers.Conv2D(256, (3, 3), activation='relu', padding='same'),  # Reduced filters to 256\n",
    "    layers.Conv2D(256, (3, 3), activation='relu', padding='same'),  # Reduced filters to 256\n",
    "    layers.Conv2D(256, (3, 3), activation='relu', padding='same'),  # Reduced filters to 256\n",
    "    \n",
    "    # Flatten the output to make it 2D\n",
    "    layers.Flatten()  # Flatten the output to a 2D array\n",
    "])\n",
    "\n",
    "# Extract features\n",
    "train_features = feature_extractor.predict(train_images)\n",
    "test_features = feature_extractor.predict(test_images)\n",
    "\n",
    "# Train Random Forest\n",
    "rf_classifier = RandomForestClassifier(n_estimators=9, random_state=42)\n",
    "rf_classifier.fit(train_features, train_labels)\n",
    "\n",
    "# Predict and evaluate\n",
    "rf_predictions = rf_classifier.predict(test_features)\n",
    "rf_accuracy = accuracy_score(test_labels, rf_predictions)\n",
    "print(f'Random Forest Accuracy: {rf_accuracy * 100:.2f}%')\n",
    "print('\\nClassification Report:')\n",
    "print(classification_report(test_labels, rf_predictions))\n"
   ]
  },
  {
   "cell_type": "code",
   "execution_count": 2,
   "metadata": {},
   "outputs": [],
   "source": [
    "from sklearn .neighbors import KNeighborsClassifier\n",
    "knn=KNeighborsClassifier(n_neighbors=245)\n",
    "knn.fit(train_features,train_labels)\n",
    "y_pred=knn.predict(test_features)"
   ]
  },
  {
   "cell_type": "code",
   "execution_count": 3,
   "metadata": {},
   "outputs": [],
   "source": [
    "acc_score=accuracy_score(test_labels,y_pred)"
   ]
  },
  {
   "cell_type": "code",
   "execution_count": 4,
   "metadata": {},
   "outputs": [
    {
     "data": {
      "text/plain": [
       "0.8966"
      ]
     },
     "execution_count": 4,
     "metadata": {},
     "output_type": "execute_result"
    }
   ],
   "source": [
    "acc_score"
   ]
  },
  {
   "cell_type": "code",
   "execution_count": 5,
   "metadata": {},
   "outputs": [],
   "source": [
    "from sklearn.tree import DecisionTreeClassifier\n",
    "\n",
    "dct=DecisionTreeClassifier()\n",
    "dct.fit(train_features,train_labels)\n",
    "y_pred=knn.predict(test_features)\n",
    "accu_value=accuracy_score(test_labels,y_pred)"
   ]
  },
  {
   "cell_type": "code",
   "execution_count": 6,
   "metadata": {},
   "outputs": [
    {
     "data": {
      "text/plain": [
       "0.8966"
      ]
     },
     "execution_count": 6,
     "metadata": {},
     "output_type": "execute_result"
    }
   ],
   "source": [
    "accu_value"
   ]
  }
 ],
 "metadata": {
  "kernelspec": {
   "display_name": "Python 3",
   "language": "python",
   "name": "python3"
  },
  "language_info": {
   "codemirror_mode": {
    "name": "ipython",
    "version": 3
   },
   "file_extension": ".py",
   "mimetype": "text/x-python",
   "name": "python",
   "nbconvert_exporter": "python",
   "pygments_lexer": "ipython3",
   "version": "3.10.10"
  }
 },
 "nbformat": 4,
 "nbformat_minor": 2
}
